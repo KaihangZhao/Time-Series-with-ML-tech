{
 "cells": [
  {
   "cell_type": "code",
   "execution_count": 1,
   "id": "ca095b8c",
   "metadata": {
    "ExecuteTime": {
     "end_time": "2022-04-07T18:06:43.436458Z",
     "start_time": "2022-04-07T18:06:42.506270Z"
    }
   },
   "outputs": [],
   "source": [
    "import pandas as pd\n",
    "import matplotlib.pyplot as plt\n",
    "import numpy as np\n",
    "import warnings\n",
    "warnings.simplefilter(action='ignore')\n",
    "\n",
    "df = pd.read_csv('zillow-carlifornia.csv')\n",
    "df = df.rename(columns={'MedianSoldPrice_AllHomes.California':'MedianSoldPrice'})\n",
    "df.index = pd.DatetimeIndex(df.Date)\n",
    "df.dropna(inplace = True)"
   ]
  },
  {
   "cell_type": "code",
   "execution_count": 2,
   "id": "4c54bcb9",
   "metadata": {
    "ExecuteTime": {
     "end_time": "2022-04-07T18:06:43.534228Z",
     "start_time": "2022-04-07T18:06:43.437692Z"
    }
   },
   "outputs": [
    {
     "data": {
      "image/png": "[encoded data removed]",
      "text/plain": [
       "<Figure size 432x288 with 1 Axes>"
      ]
     },
     "metadata": {
      "needs_background": "light"
     },
     "output_type": "display_data"
    }
   ],
   "source": [
    "plt.plot(df['MedianSoldPrice'])\n",
    "plt.show()"
   ]
  },
  {
   "cell_type": "code",
   "execution_count": 3,
   "id": "5220b9fc",
   "metadata": {
    "ExecuteTime": {
     "end_time": "2022-04-07T18:06:43.540535Z",
     "start_time": "2022-04-07T18:06:43.536786Z"
    }
   },
   "outputs": [
    {
     "data": {
      "text/plain": [
       "Date\n",
       "2008-02-29    470000.0\n",
       "2008-03-31    441000.0\n",
       "2008-04-30    460000.0\n",
       "2008-05-31    429000.0\n",
       "2008-06-30    437500.0\n",
       "                ...   \n",
       "2015-08-31    475000.0\n",
       "2015-09-30    470000.0\n",
       "2015-10-31    470000.0\n",
       "2015-11-30    485750.0\n",
       "2015-12-31    485000.0\n",
       "Name: MedianSoldPrice, Length: 95, dtype: float64"
      ]
     },
     "execution_count": 3,
     "metadata": {},
     "output_type": "execute_result"
    }
   ],
   "source": [
    "df.MedianSoldPrice.shift(0)"
   ]
  },
  {
   "cell_type": "code",
   "execution_count": 4,
   "id": "0c19be7a",
   "metadata": {
    "ExecuteTime": {
     "end_time": "2022-04-07T18:06:43.598031Z",
     "start_time": "2022-04-07T18:06:43.541523Z"
    }
   },
   "outputs": [
    {
     "data": {
      "text/html": [
       "<div>\n",
       "<style scoped>\n",
       "    .dataframe tbody tr th:only-of-type {\n",
       "        vertical-align: middle;\n",
       "    }\n",
       "\n",
       "    .dataframe tbody tr th {\n",
       "        vertical-align: top;\n",
       "    }\n",
       "\n",
       "    .dataframe thead th {\n",
       "        text-align: right;\n",
       "    }\n",
       "</style>\n",
       "<table border=\"1\" class=\"dataframe\">\n",
       "  <thead>\n",
       "    <tr style=\"text-align: right;\">\n",
       "      <th></th>\n",
       "      <th>MedianSoldPrice_0</th>\n",
       "      <th>MedianSoldPrice_1</th>\n",
       "      <th>MedianSoldPrice_2</th>\n",
       "      <th>MedianSoldPrice_3</th>\n",
       "      <th>MedianSoldPrice_4</th>\n",
       "      <th>MedianSoldPrice_5</th>\n",
       "      <th>MedianSoldPrice_6</th>\n",
       "      <th>MedianSoldPrice_7</th>\n",
       "      <th>MedianSoldPrice_8</th>\n",
       "      <th>MedianSoldPrice_9</th>\n",
       "      <th>MedianSoldPrice_10</th>\n",
       "      <th>MedianSoldPrice_11</th>\n",
       "      <th>MedianMortageRate_1</th>\n",
       "      <th>MedianMortageRate_2</th>\n",
       "      <th>MedianMortageRate_3</th>\n",
       "      <th>MedianMortageRate_4</th>\n",
       "      <th>UnemploymentRate_1</th>\n",
       "      <th>UnemploymentRate_2</th>\n",
       "      <th>UnemploymentRate_3</th>\n",
       "      <th>UnemploymentRate_4</th>\n",
       "    </tr>\n",
       "  </thead>\n",
       "  <tbody>\n",
       "    <tr>\n",
       "      <th>2009-01-31</th>\n",
       "      <td>352000.0</td>\n",
       "      <td>365000.0</td>\n",
       "      <td>366000.0</td>\n",
       "      <td>390000.0</td>\n",
       "      <td>400000.0</td>\n",
       "      <td>408000.0</td>\n",
       "      <td>423000.0</td>\n",
       "      <td>437500.0</td>\n",
       "      <td>429000.0</td>\n",
       "      <td>460000.0</td>\n",
       "      <td>441000.0</td>\n",
       "      <td>470000.0</td>\n",
       "      <td>5.79</td>\n",
       "      <td>5.89</td>\n",
       "      <td>5.64</td>\n",
       "      <td>6.03</td>\n",
       "      <td>6.2</td>\n",
       "      <td>5.6</td>\n",
       "      <td>5.7</td>\n",
       "      <td>6.5</td>\n",
       "    </tr>\n",
       "    <tr>\n",
       "      <th>2009-02-28</th>\n",
       "      <td>355000.0</td>\n",
       "      <td>352000.0</td>\n",
       "      <td>365000.0</td>\n",
       "      <td>366000.0</td>\n",
       "      <td>390000.0</td>\n",
       "      <td>400000.0</td>\n",
       "      <td>408000.0</td>\n",
       "      <td>423000.0</td>\n",
       "      <td>437500.0</td>\n",
       "      <td>429000.0</td>\n",
       "      <td>460000.0</td>\n",
       "      <td>441000.0</td>\n",
       "      <td>5.04</td>\n",
       "      <td>5.79</td>\n",
       "      <td>5.89</td>\n",
       "      <td>5.64</td>\n",
       "      <td>6.3</td>\n",
       "      <td>6.2</td>\n",
       "      <td>5.6</td>\n",
       "      <td>5.7</td>\n",
       "    </tr>\n",
       "    <tr>\n",
       "      <th>2009-03-31</th>\n",
       "      <td>355000.0</td>\n",
       "      <td>355000.0</td>\n",
       "      <td>352000.0</td>\n",
       "      <td>365000.0</td>\n",
       "      <td>366000.0</td>\n",
       "      <td>390000.0</td>\n",
       "      <td>400000.0</td>\n",
       "      <td>408000.0</td>\n",
       "      <td>423000.0</td>\n",
       "      <td>437500.0</td>\n",
       "      <td>429000.0</td>\n",
       "      <td>460000.0</td>\n",
       "      <td>4.72</td>\n",
       "      <td>5.04</td>\n",
       "      <td>5.79</td>\n",
       "      <td>5.89</td>\n",
       "      <td>7.8</td>\n",
       "      <td>6.3</td>\n",
       "      <td>6.2</td>\n",
       "      <td>5.6</td>\n",
       "    </tr>\n",
       "    <tr>\n",
       "      <th>2009-04-30</th>\n",
       "      <td>358000.0</td>\n",
       "      <td>355000.0</td>\n",
       "      <td>355000.0</td>\n",
       "      <td>352000.0</td>\n",
       "      <td>365000.0</td>\n",
       "      <td>366000.0</td>\n",
       "      <td>390000.0</td>\n",
       "      <td>400000.0</td>\n",
       "      <td>408000.0</td>\n",
       "      <td>423000.0</td>\n",
       "      <td>437500.0</td>\n",
       "      <td>429000.0</td>\n",
       "      <td>4.77</td>\n",
       "      <td>4.72</td>\n",
       "      <td>5.04</td>\n",
       "      <td>5.79</td>\n",
       "      <td>8.3</td>\n",
       "      <td>7.8</td>\n",
       "      <td>6.3</td>\n",
       "      <td>6.2</td>\n",
       "    </tr>\n",
       "    <tr>\n",
       "      <th>2009-05-31</th>\n",
       "      <td>365000.0</td>\n",
       "      <td>358000.0</td>\n",
       "      <td>355000.0</td>\n",
       "      <td>355000.0</td>\n",
       "      <td>352000.0</td>\n",
       "      <td>365000.0</td>\n",
       "      <td>366000.0</td>\n",
       "      <td>390000.0</td>\n",
       "      <td>400000.0</td>\n",
       "      <td>408000.0</td>\n",
       "      <td>423000.0</td>\n",
       "      <td>437500.0</td>\n",
       "      <td>4.64</td>\n",
       "      <td>4.77</td>\n",
       "      <td>4.72</td>\n",
       "      <td>5.04</td>\n",
       "      <td>8.8</td>\n",
       "      <td>8.3</td>\n",
       "      <td>7.8</td>\n",
       "      <td>6.3</td>\n",
       "    </tr>\n",
       "    <tr>\n",
       "      <th>...</th>\n",
       "      <td>...</td>\n",
       "      <td>...</td>\n",
       "      <td>...</td>\n",
       "      <td>...</td>\n",
       "      <td>...</td>\n",
       "      <td>...</td>\n",
       "      <td>...</td>\n",
       "      <td>...</td>\n",
       "      <td>...</td>\n",
       "      <td>...</td>\n",
       "      <td>...</td>\n",
       "      <td>...</td>\n",
       "      <td>...</td>\n",
       "      <td>...</td>\n",
       "      <td>...</td>\n",
       "      <td>...</td>\n",
       "      <td>...</td>\n",
       "      <td>...</td>\n",
       "      <td>...</td>\n",
       "      <td>...</td>\n",
       "    </tr>\n",
       "    <tr>\n",
       "      <th>2015-08-31</th>\n",
       "      <td>475000.0</td>\n",
       "      <td>482750.0</td>\n",
       "      <td>489000.0</td>\n",
       "      <td>475000.0</td>\n",
       "      <td>467000.0</td>\n",
       "      <td>465000.0</td>\n",
       "      <td>450000.0</td>\n",
       "      <td>450000.0</td>\n",
       "      <td>450000.0</td>\n",
       "      <td>440000.0</td>\n",
       "      <td>450500.0</td>\n",
       "      <td>459750.0</td>\n",
       "      <td>3.87</td>\n",
       "      <td>3.85</td>\n",
       "      <td>3.73</td>\n",
       "      <td>3.79</td>\n",
       "      <td>5.3</td>\n",
       "      <td>5.6</td>\n",
       "      <td>5.4</td>\n",
       "      <td>5.4</td>\n",
       "    </tr>\n",
       "    <tr>\n",
       "      <th>2015-09-30</th>\n",
       "      <td>470000.0</td>\n",
       "      <td>475000.0</td>\n",
       "      <td>482750.0</td>\n",
       "      <td>489000.0</td>\n",
       "      <td>475000.0</td>\n",
       "      <td>467000.0</td>\n",
       "      <td>465000.0</td>\n",
       "      <td>450000.0</td>\n",
       "      <td>450000.0</td>\n",
       "      <td>450000.0</td>\n",
       "      <td>440000.0</td>\n",
       "      <td>450500.0</td>\n",
       "      <td>3.95</td>\n",
       "      <td>3.87</td>\n",
       "      <td>3.85</td>\n",
       "      <td>3.73</td>\n",
       "      <td>5.2</td>\n",
       "      <td>5.3</td>\n",
       "      <td>5.6</td>\n",
       "      <td>5.4</td>\n",
       "    </tr>\n",
       "    <tr>\n",
       "      <th>2015-10-31</th>\n",
       "      <td>470000.0</td>\n",
       "      <td>470000.0</td>\n",
       "      <td>475000.0</td>\n",
       "      <td>482750.0</td>\n",
       "      <td>489000.0</td>\n",
       "      <td>475000.0</td>\n",
       "      <td>467000.0</td>\n",
       "      <td>465000.0</td>\n",
       "      <td>450000.0</td>\n",
       "      <td>450000.0</td>\n",
       "      <td>450000.0</td>\n",
       "      <td>440000.0</td>\n",
       "      <td>3.87</td>\n",
       "      <td>3.95</td>\n",
       "      <td>3.87</td>\n",
       "      <td>3.85</td>\n",
       "      <td>5.1</td>\n",
       "      <td>5.2</td>\n",
       "      <td>5.3</td>\n",
       "      <td>5.6</td>\n",
       "    </tr>\n",
       "    <tr>\n",
       "      <th>2015-11-30</th>\n",
       "      <td>485750.0</td>\n",
       "      <td>470000.0</td>\n",
       "      <td>470000.0</td>\n",
       "      <td>475000.0</td>\n",
       "      <td>482750.0</td>\n",
       "      <td>489000.0</td>\n",
       "      <td>475000.0</td>\n",
       "      <td>467000.0</td>\n",
       "      <td>465000.0</td>\n",
       "      <td>450000.0</td>\n",
       "      <td>450000.0</td>\n",
       "      <td>450000.0</td>\n",
       "      <td>3.80</td>\n",
       "      <td>3.87</td>\n",
       "      <td>3.95</td>\n",
       "      <td>3.87</td>\n",
       "      <td>5.0</td>\n",
       "      <td>5.1</td>\n",
       "      <td>5.2</td>\n",
       "      <td>5.3</td>\n",
       "    </tr>\n",
       "    <tr>\n",
       "      <th>2015-12-31</th>\n",
       "      <td>485000.0</td>\n",
       "      <td>485750.0</td>\n",
       "      <td>470000.0</td>\n",
       "      <td>470000.0</td>\n",
       "      <td>475000.0</td>\n",
       "      <td>482750.0</td>\n",
       "      <td>489000.0</td>\n",
       "      <td>475000.0</td>\n",
       "      <td>467000.0</td>\n",
       "      <td>465000.0</td>\n",
       "      <td>450000.0</td>\n",
       "      <td>450000.0</td>\n",
       "      <td>3.69</td>\n",
       "      <td>3.80</td>\n",
       "      <td>3.87</td>\n",
       "      <td>3.95</td>\n",
       "      <td>5.0</td>\n",
       "      <td>5.0</td>\n",
       "      <td>5.1</td>\n",
       "      <td>5.2</td>\n",
       "    </tr>\n",
       "  </tbody>\n",
       "</table>\n",
       "<p>84 rows × 20 columns</p>\n",
       "</div>"
      ],
      "text/plain": [
       "            MedianSoldPrice_0  MedianSoldPrice_1  MedianSoldPrice_2  \\\n",
       "2009-01-31           352000.0           365000.0           366000.0   \n",
       "2009-02-28           355000.0           352000.0           365000.0   \n",
       "2009-03-31           355000.0           355000.0           352000.0   \n",
       "2009-04-30           358000.0           355000.0           355000.0   \n",
       "2009-05-31           365000.0           358000.0           355000.0   \n",
       "...                       ...                ...                ...   \n",
       "2015-08-31           475000.0           482750.0           489000.0   \n",
       "2015-09-30           470000.0           475000.0           482750.0   \n",
       "2015-10-31           470000.0           470000.0           475000.0   \n",
       "2015-11-30           485750.0           470000.0           470000.0   \n",
       "2015-12-31           485000.0           485750.0           470000.0   \n",
       "\n",
       "            MedianSoldPrice_3  MedianSoldPrice_4  MedianSoldPrice_5  \\\n",
       "2009-01-31           390000.0           400000.0           408000.0   \n",
       "2009-02-28           366000.0           390000.0           400000.0   \n",
       "2009-03-31           365000.0           366000.0           390000.0   \n",
       "2009-04-30           352000.0           365000.0           366000.0   \n",
       "2009-05-31           355000.0           352000.0           365000.0   \n",
       "...                       ...                ...                ...   \n",
       "2015-08-31           475000.0           467000.0           465000.0   \n",
       "2015-09-30           489000.0           475000.0           467000.0   \n",
       "2015-10-31           482750.0           489000.0           475000.0   \n",
       "2015-11-30           475000.0           482750.0           489000.0   \n",
       "2015-12-31           470000.0           475000.0           482750.0   \n",
       "\n",
       "            MedianSoldPrice_6  MedianSoldPrice_7  MedianSoldPrice_8  \\\n",
       "2009-01-31           423000.0           437500.0           429000.0   \n",
       "2009-02-28           408000.0           423000.0           437500.0   \n",
       "2009-03-31           400000.0           408000.0           423000.0   \n",
       "2009-04-30           390000.0           400000.0           408000.0   \n",
       "2009-05-31           366000.0           390000.0           400000.0   \n",
       "...                       ...                ...                ...   \n",
       "2015-08-31           450000.0           450000.0           450000.0   \n",
       "2015-09-30           465000.0           450000.0           450000.0   \n",
       "2015-10-31           467000.0           465000.0           450000.0   \n",
       "2015-11-30           475000.0           467000.0           465000.0   \n",
       "2015-12-31           489000.0           475000.0           467000.0   \n",
       "\n",
       "            MedianSoldPrice_9  MedianSoldPrice_10  MedianSoldPrice_11  \\\n",
       "2009-01-31           460000.0            441000.0            470000.0   \n",
       "2009-02-28           429000.0            460000.0            441000.0   \n",
       "2009-03-31           437500.0            429000.0            460000.0   \n",
       "2009-04-30           423000.0            437500.0            429000.0   \n",
       "2009-05-31           408000.0            423000.0            437500.0   \n",
       "...                       ...                 ...                 ...   \n",
       "2015-08-31           440000.0            450500.0            459750.0   \n",
       "2015-09-30           450000.0            440000.0            450500.0   \n",
       "2015-10-31           450000.0            450000.0            440000.0   \n",
       "2015-11-30           450000.0            450000.0            450000.0   \n",
       "2015-12-31           465000.0            450000.0            450000.0   \n",
       "\n",
       "            MedianMortageRate_1  MedianMortageRate_2  MedianMortageRate_3  \\\n",
       "2009-01-31                 5.79                 5.89                 5.64   \n",
       "2009-02-28                 5.04                 5.79                 5.89   \n",
       "2009-03-31                 4.72                 5.04                 5.79   \n",
       "2009-04-30                 4.77                 4.72                 5.04   \n",
       "2009-05-31                 4.64                 4.77                 4.72   \n",
       "...                         ...                  ...                  ...   \n",
       "2015-08-31                 3.87                 3.85                 3.73   \n",
       "2015-09-30                 3.95                 3.87                 3.85   \n",
       "2015-10-31                 3.87                 3.95                 3.87   \n",
       "2015-11-30                 3.80                 3.87                 3.95   \n",
       "2015-12-31                 3.69                 3.80                 3.87   \n",
       "\n",
       "            MedianMortageRate_4  UnemploymentRate_1  UnemploymentRate_2  \\\n",
       "2009-01-31                 6.03                 6.2                 5.6   \n",
       "2009-02-28                 5.64                 6.3                 6.2   \n",
       "2009-03-31                 5.89                 7.8                 6.3   \n",
       "2009-04-30                 5.79                 8.3                 7.8   \n",
       "2009-05-31                 5.04                 8.8                 8.3   \n",
       "...                         ...                 ...                 ...   \n",
       "2015-08-31                 3.79                 5.3                 5.6   \n",
       "2015-09-30                 3.73                 5.2                 5.3   \n",
       "2015-10-31                 3.85                 5.1                 5.2   \n",
       "2015-11-30                 3.87                 5.0                 5.1   \n",
       "2015-12-31                 3.95                 5.0                 5.0   \n",
       "\n",
       "            UnemploymentRate_3  UnemploymentRate_4  \n",
       "2009-01-31                 5.7                 6.5  \n",
       "2009-02-28                 5.6                 5.7  \n",
       "2009-03-31                 6.2                 5.6  \n",
       "2009-04-30                 6.3                 6.2  \n",
       "2009-05-31                 7.8                 6.3  \n",
       "...                        ...                 ...  \n",
       "2015-08-31                 5.4                 5.4  \n",
       "2015-09-30                 5.6                 5.4  \n",
       "2015-10-31                 5.3                 5.6  \n",
       "2015-11-30                 5.2                 5.3  \n",
       "2015-12-31                 5.1                 5.2  \n",
       "\n",
       "[84 rows x 20 columns]"
      ]
     },
     "execution_count": 4,
     "metadata": {},
     "output_type": "execute_result"
    }
   ],
   "source": [
    "df_ts=pd.DataFrame()\n",
    "for i in range(0, 12, 1):\n",
    "    df_shift = df.MedianSoldPrice.shift(i).rename(f'MedianSoldPrice_{i}')\n",
    "    df_ts = pd.concat([df_ts, df_shift],1)\n",
    "for i in range(1, 5, 1):\n",
    "    df_shift = df.MedianMortageRate.shift(i).rename(f'MedianMortageRate_{i}')\n",
    "    df_ts = pd.concat([df_ts, df_shift],1)\n",
    "for i in range(1, 5, 1):\n",
    "    df_shift = df.UnemploymentRate.shift(i).rename(f'UnemploymentRate_{i}')\n",
    "    df_ts = pd.concat([df_ts, df_shift],1)\n",
    "df_ts = df_ts.dropna()\n",
    "df_ts"
   ]
  },
  {
   "cell_type": "code",
   "execution_count": 5,
   "id": "8e42dc4a",
   "metadata": {
    "ExecuteTime": {
     "end_time": "2022-04-07T18:06:43.600386Z",
     "start_time": "2022-04-07T18:06:43.599032Z"
    }
   },
   "outputs": [],
   "source": [
    "# df_ts = pd.concat([df_ts, df.MedianMortageRate.shift(1),df.UnemploymentRate.shift(1)],1)\n",
    "# df_ts = df_ts.dropna()\n",
    "# df_ts"
   ]
  },
  {
   "cell_type": "code",
   "execution_count": 6,
   "id": "8f6b8b2d",
   "metadata": {
    "ExecuteTime": {
     "end_time": "2022-04-07T18:06:44.080355Z",
     "start_time": "2022-04-07T18:06:43.601221Z"
    }
   },
   "outputs": [
    {
     "data": {
      "text/plain": [
       "(19881.415954796757, 16203.676470588236, 0.03580932624285439)"
      ]
     },
     "execution_count": 6,
     "metadata": {},
     "output_type": "execute_result"
    }
   ],
   "source": [
    "from sklearn.ensemble import RandomForestRegressor\n",
    "from sklearn.metrics import mean_absolute_error as MAE\n",
    "from sklearn.metrics import mean_squared_error as MSE\n",
    "from sklearn.metrics import mean_absolute_percentage_error as MAPE\n",
    "from sklearn.model_selection import train_test_split\n",
    "from sklearn.ensemble import GradientBoostingRegressor\n",
    "x = df_ts[df_ts.columns[1:]]\n",
    "y = df_ts[df_ts.columns[0]]\n",
    "x_train, x_test, y_train, y_test = train_test_split(x, y, test_size=0.2, shuffle=False)\n",
    "rf = RandomForestRegressor()\n",
    "rf.fit(x_train,y_train)\n",
    "y_pred = rf.predict(x_test)\n",
    "np.sqrt(MSE(y_pred,y_test)), MAE(y_pred,y_test), MAPE(y_pred,y_test)"
   ]
  },
  {
   "cell_type": "code",
   "execution_count": 7,
   "id": "2800af1c",
   "metadata": {
    "ExecuteTime": {
     "end_time": "2022-04-07T18:06:44.111676Z",
     "start_time": "2022-04-07T18:06:44.082421Z"
    }
   },
   "outputs": [
    {
     "data": {
      "text/plain": [
       "(19298.864938998595, 15690.723438617699, 0.034602452132392825)"
      ]
     },
     "execution_count": 7,
     "metadata": {},
     "output_type": "execute_result"
    }
   ],
   "source": [
    "gb = GradientBoostingRegressor()\n",
    "gb.fit(x_train,y_train)\n",
    "y_pred = gb.predict(x_test)\n",
    "np.sqrt(MSE(y_pred,y_test)), MAE(y_pred,y_test), MAPE(y_pred,y_test)"
   ]
  },
  {
   "cell_type": "code",
   "execution_count": 8,
   "id": "1a23cb97",
   "metadata": {
    "ExecuteTime": {
     "end_time": "2022-04-07T18:06:44.116873Z",
     "start_time": "2022-04-07T18:06:44.113540Z"
    }
   },
   "outputs": [],
   "source": [
    "def ml_ts(model):\n",
    "    y_pred = []\n",
    "    cv_len = len(x_test)\n",
    "    start = len(x_train)\n",
    "    for t in range(cv_len):\n",
    "        x_tr = x[:start+t-1]\n",
    "        y_tr = y[:start+t-1]\n",
    "        rf = model\n",
    "        rf.fit(x_tr,y_tr)\n",
    "        y_pred.append(rf.predict(np.array(x.iloc[start+t,:]).reshape(1,-1)))\n",
    "    return y_pred,(np.sqrt(MSE(y_pred,y_test)), MAE(y_pred,y_test), MAPE(y_pred,y_test))"
   ]
  },
  {
   "cell_type": "code",
   "execution_count": 9,
   "id": "14313c17",
   "metadata": {
    "ExecuteTime": {
     "end_time": "2022-04-07T18:06:45.650098Z",
     "start_time": "2022-04-07T18:06:44.118011Z"
    }
   },
   "outputs": [
    {
     "data": {
      "image/png": "[encoded data removed]",
      "text/plain": [
       "<Figure size 576x216 with 1 Axes>"
      ]
     },
     "metadata": {
      "needs_background": "light"
     },
     "output_type": "display_data"
    },
    {
     "name": "stdout",
     "output_type": "stream",
     "text": [
      "(12238.038893380031, 9757.5, 0.021255137732442423)\n"
     ]
    }
   ],
   "source": [
    "y_pred, metrics = ml_ts(RandomForestRegressor(n_estimators = 100))\n",
    "plt.figure(figsize=(8,3))\n",
    "plt.plot(y_test.index,y_test,label='true')\n",
    "plt.plot(y_test.index,y_pred,label='forecast')\n",
    "plt.legend()\n",
    "plt.show()\n",
    "print(metrics)"
   ]
  },
  {
   "cell_type": "code",
   "execution_count": 10,
   "id": "5e58b55b",
   "metadata": {
    "ExecuteTime": {
     "end_time": "2022-04-07T18:06:46.177419Z",
     "start_time": "2022-04-07T18:06:45.651166Z"
    }
   },
   "outputs": [
    {
     "data": {
      "image/png": "[encoded data removed]",
      "text/plain": [
       "<Figure size 576x216 with 1 Axes>"
      ]
     },
     "metadata": {
      "needs_background": "light"
     },
     "output_type": "display_data"
    },
    {
     "name": "stdout",
     "output_type": "stream",
     "text": [
      "(12672.611986956168, 10176.700431461868, 0.022152790635296783)\n"
     ]
    }
   ],
   "source": [
    "\n",
    "y_pred, metrics = ml_ts(GradientBoostingRegressor(n_estimators = 100, learning_rate = 0.1))\n",
    "plt.figure(figsize=(8,3))\n",
    "plt.plot(y_test.index,y_test,label='true')\n",
    "plt.plot(y_test.index,y_pred,label='forecast')\n",
    "plt.legend()\n",
    "plt.show()\n",
    "print(metrics)"
   ]
  },
  {
   "cell_type": "code",
   "execution_count": 11,
   "id": "149a2358",
   "metadata": {
    "ExecuteTime": {
     "end_time": "2022-04-07T18:06:46.179761Z",
     "start_time": "2022-04-07T18:06:46.178428Z"
    }
   },
   "outputs": [],
   "source": [
    "# !wget https://s3.amazonaws.com/keras-datasets/jena_climate_2009_2016.csv.zip\n",
    "# !unzip jena_climate_2009_2016.csv.zip"
   ]
  },
  {
   "cell_type": "code",
   "execution_count": null,
   "id": "249b6d2f",
   "metadata": {},
   "outputs": [],
   "source": []
  }
 ],
 "metadata": {
  "kernelspec": {
   "display_name": "Python 3",
   "language": "python",
   "name": "python3"
  },
  "language_info": {
   "codemirror_mode": {
    "name": "ipython",
    "version": 3
   },
   "file_extension": ".py",
   "mimetype": "text/x-python",
   "name": "python",
   "nbconvert_exporter": "python",
   "pygments_lexer": "ipython3",
   "version": "3.9.7"
  },
  "toc": {
   "base_numbering": 1,
   "nav_menu": {},
   "number_sections": true,
   "sideBar": true,
   "skip_h1_title": false,
   "title_cell": "Table of Contents",
   "title_sidebar": "Contents",
   "toc_cell": false,
   "toc_position": {},
   "toc_section_display": true,
   "toc_window_display": false
  },
  "varInspector": {
   "cols": {
    "lenName": 16,
    "lenType": 16,
    "lenVar": 40
   },
   "kernels_config": {
    "python": {
     "delete_cmd_postfix": "",
     "delete_cmd_prefix": "del ",
     "library": "var_list.py",
     "varRefreshCmd": "print(var_dic_list())"
    },
    "r": {
     "delete_cmd_postfix": ") ",
     "delete_cmd_prefix": "rm(",
     "library": "var_list.r",
     "varRefreshCmd": "cat(var_dic_list()) "
    }
   },
   "types_to_exclude": [
    "module",
    "function",
    "builtin_function_or_method",
    "instance",
    "_Feature"
   ],
   "window_display": false
  }
 },
 "nbformat": 4,
 "nbformat_minor": 5
}
